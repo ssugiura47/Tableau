{
 "cells": [
  {
   "cell_type": "code",
   "execution_count": 1,
   "metadata": {},
   "outputs": [],
   "source": [
    "import pandas as pd\n",
    "import csv"
   ]
  },
  {
   "cell_type": "code",
   "execution_count": 2,
   "metadata": {},
   "outputs": [],
   "source": [
    "OCT2020 = pd.read_csv(\"data/JC-202010-citibike-tripdata.csv\")\n",
    "OCT2020.to_csv(\"10_2020.csv\", encoding=\"utf-8\", index=True, header=True)"
   ]
  },
  {
   "cell_type": "code",
   "execution_count": 3,
   "metadata": {},
   "outputs": [],
   "source": [
    "SEP2020 = pd.read_csv(\"data/JC-202009-citibike-tripdata.csv\")\n",
    "SEP2020.to_csv(\"09_2020.csv\", encoding=\"utf-8\", index=True, header=True)"
   ]
  },
  {
   "cell_type": "code",
   "execution_count": 4,
   "metadata": {},
   "outputs": [],
   "source": [
    "AUG2020 = pd.read_csv(\"data/JC-202008-citibike-tripdata.csv\")\n",
    "AUG2020.to_csv(\"08_2020.csv\", encoding=\"utf-8\", index=True, header=True)"
   ]
  },
  {
   "cell_type": "code",
   "execution_count": 5,
   "metadata": {},
   "outputs": [],
   "source": [
    "JUL2020 = pd.read_csv(\"data/JC-202007-citibike-tripdata.csv\")\n",
    "JUL2020.to_csv(\"07_2020.csv\", encoding=\"utf-8\", index=True, header=True)"
   ]
  },
  {
   "cell_type": "code",
   "execution_count": 6,
   "metadata": {},
   "outputs": [],
   "source": [
    "JUN2020 = pd.read_csv(\"data/JC-202006-citibike-tripdata.csv\")\n",
    "JUN2020.to_csv(\"06_2020.csv\", encoding=\"utf-8\", index=True, header=True)"
   ]
  },
  {
   "cell_type": "code",
   "execution_count": 7,
   "metadata": {},
   "outputs": [],
   "source": [
    "MAY2020 = pd.read_csv(\"data/JC-202005-citibike-tripdata.csv\")\n",
    "MAY2020.to_csv(\"05_2020.csv\", encoding=\"utf-8\", index=True, header=True)"
   ]
  },
  {
   "cell_type": "code",
   "execution_count": null,
   "metadata": {},
   "outputs": [],
   "source": []
  }
 ],
 "metadata": {
  "kernelspec": {
   "display_name": "Python 3",
   "language": "python",
   "name": "python3"
  },
  "language_info": {
   "codemirror_mode": {
    "name": "ipython",
    "version": 3
   },
   "file_extension": ".py",
   "mimetype": "text/x-python",
   "name": "python",
   "nbconvert_exporter": "python",
   "pygments_lexer": "ipython3",
   "version": "3.7.6"
  }
 },
 "nbformat": 4,
 "nbformat_minor": 4
}
